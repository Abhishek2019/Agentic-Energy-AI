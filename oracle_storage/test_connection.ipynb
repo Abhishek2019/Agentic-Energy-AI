{
 "cells": [
  {
   "cell_type": "markdown",
   "id": "f170918b",
   "metadata": {},
   "source": [
    "### Test Connection to Oracle Objec Storage through boto3"
   ]
  },
  {
   "cell_type": "code",
   "execution_count": 1,
   "id": "3ce040e3",
   "metadata": {},
   "outputs": [],
   "source": [
    "import os, sys, boto3\n",
    "\n",
    "sys.path.append(\"/home/abhi_ubuntu/oracle_cloud/storage/\")"
   ]
  },
  {
   "cell_type": "code",
   "execution_count": 2,
   "id": "144323db",
   "metadata": {},
   "outputs": [],
   "source": [
    "from gen_sec_key import ORACLE_S3_SECRET_KEY, ORACLE_S3_ACCESS_KEY, ORACLE_NS, ORACLE_REGION, ORACLE_BUCKET, ORACLE_S3_ENDPOINT\n"
   ]
  },
  {
   "cell_type": "code",
   "execution_count": 3,
   "id": "be316726",
   "metadata": {},
   "outputs": [
    {
     "data": {
      "text/plain": [
       "'https://axbh7jq3e5vo.compat.objectstorage.us-chicago-1.oraclecloud.com'"
      ]
     },
     "execution_count": 3,
     "metadata": {},
     "output_type": "execute_result"
    }
   ],
   "source": [
    "ORACLE_S3_ENDPOINT"
   ]
  },
  {
   "cell_type": "code",
   "execution_count": 4,
   "id": "cf9e4c99",
   "metadata": {},
   "outputs": [],
   "source": [
    "session = boto3.session.Session(\n",
    "    aws_access_key_id=ORACLE_S3_ACCESS_KEY,\n",
    "    aws_secret_access_key=ORACLE_S3_SECRET_KEY,\n",
    "    region_name=ORACLE_REGION,\n",
    ")"
   ]
  },
  {
   "cell_type": "code",
   "execution_count": 5,
   "id": "91f7e85a",
   "metadata": {},
   "outputs": [],
   "source": [
    "s3 = session.client(\"s3\", endpoint_url=ORACLE_S3_ENDPOINT)"
   ]
  },
  {
   "cell_type": "code",
   "execution_count": null,
   "id": "81c1ea1c",
   "metadata": {},
   "outputs": [
    {
     "name": "stdout",
     "output_type": "stream",
     "text": [
      "['April2024.pdf', 'December2023.pdf', 'Feb2024.pdf', 'Jan2024.pdf', 'March2024.pdf', 'Nov2023.pdf', 'October2023.pdf', 'September2023.pdf']\n"
     ]
    }
   ],
   "source": [
    "def list_keys(prefix=\"\"):\n",
    "    resp = s3.list_objects_v2(Bucket=ORACLE_BUCKET, Prefix=prefix)\n",
    "    return [x[\"Key\"] for x in resp.get(\"Contents\", [])]\n",
    "\n",
    "if __name__ == \"__main__\":\n",
    "    print(list_keys())"
   ]
  },
  {
   "cell_type": "code",
   "execution_count": null,
   "id": "7469668b",
   "metadata": {},
   "outputs": [],
   "source": []
  }
 ],
 "metadata": {
  "kernelspec": {
   "display_name": ".venv (3.12.3)",
   "language": "python",
   "name": "python3"
  },
  "language_info": {
   "codemirror_mode": {
    "name": "ipython",
    "version": 3
   },
   "file_extension": ".py",
   "mimetype": "text/x-python",
   "name": "python",
   "nbconvert_exporter": "python",
   "pygments_lexer": "ipython3",
   "version": "3.12.3"
  }
 },
 "nbformat": 4,
 "nbformat_minor": 5
}
